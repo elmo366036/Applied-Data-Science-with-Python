{
 "cells": [
  {
   "cell_type": "markdown",
   "metadata": {},
   "source": [
    "# Assignment 2\n",
    "\n",
    "Before working on this assignment please read these instructions fully. In the submission area, you will notice that you can click the link to **Preview the Grading** for each step of the assignment. This is the criteria that will be used for peer grading. Please familiarize yourself with the criteria before beginning the assignment.\n",
    "\n",
    "An NOAA dataset has been stored in the file `data/C2A2_data/BinnedCsvs_d400/fb441e62df2d58994928907a91895ec62c2c42e6cd075c2700843b89.csv`. The data for this assignment comes from a subset of The National Centers for Environmental Information (NCEI) [Daily Global Historical Climatology Network](https://www1.ncdc.noaa.gov/pub/data/ghcn/daily/readme.txt) (GHCN-Daily). The GHCN-Daily is comprised of daily climate records from thousands of land surface stations across the globe.\n",
    "\n",
    "Each row in the assignment datafile corresponds to a single observation.\n",
    "\n",
    "The following variables are provided to you:\n",
    "\n",
    "* **id** : station identification code\n",
    "* **date** : date in YYYY-MM-DD format (e.g. 2012-01-24 = January 24, 2012)\n",
    "* **element** : indicator of element type\n",
    "    * TMAX : Maximum temperature (tenths of degrees C)\n",
    "    * TMIN : Minimum temperature (tenths of degrees C)\n",
    "* **value** : data value for element (tenths of degrees C)\n",
    "\n",
    "For this assignment, you must:\n",
    "\n",
    "1. Read the documentation and familiarize yourself with the dataset, then write some python code which returns a line graph of the record high and record low temperatures by day of the year over the period 2005-2014. The area between the record high and record low temperatures for each day should be shaded.\n",
    "2. Overlay a scatter of the 2015 data for any points (highs and lows) for which the ten year record (2005-2014) record high or record low was broken in 2015.\n",
    "3. Watch out for leap days (i.e. February 29th), it is reasonable to remove these points from the dataset for the purpose of this visualization.\n",
    "4. Make the visual nice! Leverage principles from the first module in this course when developing your solution. Consider issues such as legends, labels, and chart junk.\n",
    "\n",
    "The data you have been given is near **Ann Arbor, Michigan, United States**, and the stations the data comes from are shown on the map below."
   ]
  },
  {
   "cell_type": "code",
   "execution_count": 1,
   "metadata": {
    "scrolled": true
   },
   "outputs": [
    {
     "ename": "ImportError",
     "evalue": "No module named 'mplleaflet'",
     "output_type": "error",
     "traceback": [
      "\u001b[1;31m---------------------------------------------------------------------------\u001b[0m",
      "\u001b[1;31mImportError\u001b[0m                               Traceback (most recent call last)",
      "\u001b[1;32m<ipython-input-1-1811366bbabd>\u001b[0m in \u001b[0;36m<module>\u001b[1;34m()\u001b[0m\n\u001b[0;32m      1\u001b[0m \u001b[1;32mimport\u001b[0m \u001b[0mmatplotlib\u001b[0m\u001b[1;33m.\u001b[0m\u001b[0mpyplot\u001b[0m \u001b[1;32mas\u001b[0m \u001b[0mplt\u001b[0m\u001b[1;33m\u001b[0m\u001b[0m\n\u001b[1;32m----> 2\u001b[1;33m \u001b[1;32mimport\u001b[0m \u001b[0mmplleaflet\u001b[0m\u001b[1;33m\u001b[0m\u001b[0m\n\u001b[0m\u001b[0;32m      3\u001b[0m \u001b[1;32mimport\u001b[0m \u001b[0mpandas\u001b[0m \u001b[1;32mas\u001b[0m \u001b[0mpd\u001b[0m\u001b[1;33m\u001b[0m\u001b[0m\n\u001b[0;32m      4\u001b[0m \u001b[1;32mimport\u001b[0m \u001b[0mmatplotlib\u001b[0m\u001b[1;33m.\u001b[0m\u001b[0mdates\u001b[0m \u001b[1;32mas\u001b[0m \u001b[0mdates\u001b[0m\u001b[1;33m\u001b[0m\u001b[0m\n\u001b[0;32m      5\u001b[0m \u001b[1;33m\u001b[0m\u001b[0m\n",
      "\u001b[1;31mImportError\u001b[0m: No module named 'mplleaflet'"
     ]
    }
   ],
   "source": [
    "import matplotlib.pyplot as plt\n",
    "import mplleaflet\n",
    "import pandas as pd\n",
    "import matplotlib.dates as dates\n",
    "\n",
    "def leaflet_plot_stations(binsize, hashid):\n",
    "\n",
    "    df = pd.read_csv('data/C2A2_data/BinSize_d{}.csv'.format(binsize))\n",
    "\n",
    "    station_locations_by_hash = df[df['hash'] == hashid]\n",
    "\n",
    "    lons = station_locations_by_hash['LONGITUDE'].tolist()\n",
    "    lats = station_locations_by_hash['LATITUDE'].tolist()\n",
    "\n",
    "    plt.figure(figsize=(8,8))\n",
    "\n",
    "    plt.scatter(lons, lats, c='r', alpha=0.7, s=200)\n",
    "\n",
    "    return mplleaflet.display()\n",
    "\n",
    "leaflet_plot_stations(400,'fb441e62df2d58994928907a91895ec62c2c42e6cd075c2700843b89')\n"
   ]
  },
  {
   "cell_type": "code",
   "execution_count": 6,
   "metadata": {
    "scrolled": false
   },
   "outputs": [
    {
     "ename": "NameError",
     "evalue": "name 'pd' is not defined",
     "output_type": "error",
     "traceback": [
      "\u001b[1;31m---------------------------------------------------------------------------\u001b[0m",
      "\u001b[1;31mNameError\u001b[0m                                 Traceback (most recent call last)",
      "\u001b[1;32m<ipython-input-6-e9c55783e569>\u001b[0m in \u001b[0;36m<module>\u001b[1;34m()\u001b[0m\n\u001b[1;32m----> 1\u001b[1;33m \u001b[0mdf1\u001b[0m \u001b[1;33m=\u001b[0m \u001b[0mprepare_data\u001b[0m\u001b[1;33m(\u001b[0m\u001b[1;33m)\u001b[0m\u001b[1;33m\u001b[0m\u001b[0m\n\u001b[0m\u001b[0;32m      2\u001b[0m \u001b[0mdf2\u001b[0m \u001b[1;33m=\u001b[0m \u001b[0mgetHigsAndLowsBefore2014\u001b[0m\u001b[1;33m(\u001b[0m\u001b[0mdf1\u001b[0m\u001b[1;33m)\u001b[0m\u001b[1;33m\u001b[0m\u001b[0m\n\u001b[0;32m      3\u001b[0m \u001b[0mdf3min\u001b[0m\u001b[1;33m,\u001b[0m \u001b[0mdf3max\u001b[0m \u001b[1;33m=\u001b[0m \u001b[0mgetHighsAndLows2015\u001b[0m\u001b[1;33m(\u001b[0m\u001b[0mdf1\u001b[0m\u001b[1;33m,\u001b[0m \u001b[0mdf2\u001b[0m\u001b[1;33m)\u001b[0m\u001b[1;33m\u001b[0m\u001b[0m\n\u001b[0;32m      4\u001b[0m \u001b[0mplotData\u001b[0m\u001b[1;33m(\u001b[0m\u001b[0mdf2\u001b[0m\u001b[1;33m,\u001b[0m \u001b[0mdf3min\u001b[0m\u001b[1;33m,\u001b[0m \u001b[0mdf3max\u001b[0m\u001b[1;33m)\u001b[0m\u001b[1;33m\u001b[0m\u001b[0m\n\u001b[0;32m      5\u001b[0m \u001b[0mplt\u001b[0m\u001b[1;33m.\u001b[0m\u001b[0msavefig\u001b[0m\u001b[1;33m(\u001b[0m\u001b[1;34m'assignment2.png'\u001b[0m\u001b[1;33m,\u001b[0m \u001b[0mformat\u001b[0m\u001b[1;33m=\u001b[0m\u001b[1;34m'png'\u001b[0m\u001b[1;33m)\u001b[0m\u001b[1;33m\u001b[0m\u001b[0m\n",
      "\u001b[1;32m<ipython-input-2-0b0505377617>\u001b[0m in \u001b[0;36mprepare_data\u001b[1;34m()\u001b[0m\n\u001b[0;32m      1\u001b[0m \u001b[1;32mdef\u001b[0m \u001b[0mprepare_data\u001b[0m\u001b[1;33m(\u001b[0m\u001b[1;33m)\u001b[0m\u001b[1;33m:\u001b[0m\u001b[1;33m\u001b[0m\u001b[0m\n\u001b[1;32m----> 2\u001b[1;33m     \u001b[0mdf1\u001b[0m \u001b[1;33m=\u001b[0m \u001b[0mpd\u001b[0m\u001b[1;33m.\u001b[0m\u001b[0mread_csv\u001b[0m\u001b[1;33m(\u001b[0m\u001b[1;34m'data/C2A2_data/BinnedCsvs_d400/fb441e62df2d58994928907a91895ec62c2c42e6cd075c2700843b89.csv'\u001b[0m\u001b[1;33m)\u001b[0m\u001b[1;33m\u001b[0m\u001b[0m\n\u001b[0m\u001b[0;32m      3\u001b[0m \u001b[1;33m\u001b[0m\u001b[0m\n\u001b[0;32m      4\u001b[0m     \u001b[1;31m# convert tenths of degrees to degrees\u001b[0m\u001b[1;33m\u001b[0m\u001b[1;33m\u001b[0m\u001b[0m\n\u001b[0;32m      5\u001b[0m     \u001b[0mdf1\u001b[0m\u001b[1;33m[\u001b[0m\u001b[1;34m'Temperature'\u001b[0m\u001b[1;33m]\u001b[0m \u001b[1;33m=\u001b[0m \u001b[0mdf1\u001b[0m\u001b[1;33m[\u001b[0m\u001b[1;34m'Data_Value'\u001b[0m\u001b[1;33m]\u001b[0m\u001b[1;33m/\u001b[0m\u001b[1;36m10\u001b[0m\u001b[1;33m\u001b[0m\u001b[0m\n",
      "\u001b[1;31mNameError\u001b[0m: name 'pd' is not defined"
     ]
    }
   ],
   "source": [
    "df1 = prepare_data()\n",
    "df2 = getHigsAndLowsBefore2014(df1)\n",
    "df3min, df3max = getHighsAndLows2015(df1, df2)\n",
    "plotData(df2, df3min, df3max)\n",
    "plt.savefig('assignment2.png', format='png')\n",
    "\n"
   ]
  },
  {
   "cell_type": "code",
   "execution_count": 2,
   "metadata": {},
   "outputs": [],
   "source": [
    "def prepare_data():\n",
    "    df1 = pd.read_csv('data/C2A2_data/BinnedCsvs_d400/fb441e62df2d58994928907a91895ec62c2c42e6cd075c2700843b89.csv')\n",
    "    \n",
    "    # convert tenths of degrees to degrees\n",
    "    df1['Temperature'] = df1['Data_Value']/10\n",
    "    \n",
    "    # sort by date\n",
    "    df1.sort_values(by=['Date', 'Data_Value'], inplace=True)\n",
    "\n",
    "    # Convert date column to type Date\n",
    "    df1['Date'] = pd.to_datetime(df1['Date'], format='%Y-%m-%d')\n",
    "\n",
    "    # add helper columns columns year and month-day. These are strings\n",
    "    df1['Year'] = df1['Date'].dt.year\n",
    "    df1['Month/Day'] = df1['Date'].dt.strftime('%m/%d') \n",
    "    \n",
    "    # remove rows corresponding to 2-29 dates\n",
    "    df1 = df1[df1['Month/Day'] != '02/29']\n",
    "    \n",
    "    # convert Month/Day from string to datetime. This will help with plotting\n",
    "    # (don't worry about the 1900 year, its the relative date number we are interested in)\n",
    "    df1['Month/Day'] = pd.to_datetime(df1['Month/Day'], format='%m/%d')\n",
    "    \n",
    "    # add a numerical representation of the date. This will help with the plotting\n",
    "    #df1['numerical_date'] = df1['Month/Day'].apply(lambda x: dates.date2num(x))\n",
    "    \n",
    "    # get rid of Date and Data_Values rows\n",
    "    #df1.drop('Data_Value', axis=1, inplace=True)\n",
    "    #df1.drop('Date', axis=1, inplace=True)\n",
    "    \n",
    "    #print(df1)\n",
    "    \n",
    "    return df1"
   ]
  },
  {
   "cell_type": "code",
   "execution_count": 3,
   "metadata": {},
   "outputs": [],
   "source": [
    "def getHigsAndLowsBefore2014(df):\n",
    "    \n",
    "    # remove the 2015 data\n",
    "    df2 = df[df.Year < 2015]\n",
    "    \n",
    "    # get min and max based on Date, reset the index\n",
    "    result = df2.groupby('Month/Day')['Temperature'].agg(['max', 'min']).reset_index()\n",
    "    \n",
    "    # add a numerical representation of the date. This will help with the plotting\n",
    "    result['numerical_date'] = result['Month/Day'].apply(lambda x: dates.date2num(x))\n",
    "    \n",
    "    return result"
   ]
  },
  {
   "cell_type": "code",
   "execution_count": 4,
   "metadata": {},
   "outputs": [],
   "source": [
    "def getHighsAndLows2015(df1, df2):\n",
    "    \n",
    "    # remove 2014 and earlier data\n",
    "    df3 = df1[df1.Year == 2015]\n",
    "    \n",
    "    # get min and max based on Month/Dat\n",
    "    df3_maxmin = df3.groupby('Month/Day')['Temperature'].agg(['max', 'min']).reset_index()\n",
    "    \n",
    "    # merge df2 with the maxmin of df3\n",
    "    result = pd.merge(df2, df3_maxmin, how='outer', left_on='Month/Day', right_on='Month/Day')\n",
    "    \n",
    "    # compare 2015 (min_y, max_y) with 2005-2014 (min_x, max_x) \n",
    "    result['Min_in_2015'] = result['min_y'] < result['min_x']\n",
    "    result['Max_in_2015'] = result['max_y'] > result['max_x']\n",
    "    \n",
    "    # create min and max df\n",
    "    result_min = result[result.Min_in_2015 == True].copy() \n",
    "    result_max = result[result.Max_in_2015 == True].copy()\n",
    "    result_min.rename(columns={'min_y':'min'}, inplace=True)\n",
    "    result_max.rename(columns={'max_y':'max'}, inplace=True)\n",
    "    \n",
    "    # add a numerical representation of the date. This will help with the plotting\n",
    "    result_min['numerical_date'] = result_min['Month/Day'].apply(lambda x: dates.date2num(x))\n",
    "    result_max['numerical_date'] = result_max['Month/Day'].apply(lambda x: dates.date2num(x))\n",
    "\n",
    "    return result_min, result_max"
   ]
  },
  {
   "cell_type": "code",
   "execution_count": 5,
   "metadata": {},
   "outputs": [],
   "source": [
    "def plotData(df2, df3min, df3max):\n",
    "    %matplotlib notebook\n",
    "    \n",
    "    # create new figure\n",
    "    plt.figure()\n",
    "    \n",
    "    # plot record low and high data from 2005-2014\n",
    "    plt.plot(df2['numerical_date'], df2['max'], color='r', lw=1, \n",
    "             label='record high 2004-2015', zorder=1)\n",
    "    plt.plot(df2['numerical_date'], df2['min'], color='b', lw=1, \n",
    "             label='record low 2004-2014', zorder=1)\n",
    "    \n",
    "\n",
    "\n",
    "    # add scatterplot for 2015 data where it was a high or low\n",
    "    plt.scatter(df3max['numerical_date'], df3max['max'], color='k', marker='o', s=10, \n",
    "                label='record breaking high in 2015', zorder=3 )  \n",
    "    plt.scatter(df3min['numerical_date'], df3min['min'], color='darkviolet', marker='o', s=10, \n",
    "                label='record breaking low in 2015', zorder=3)\n",
    "    \n",
    "    # fill in the space between the two lines\n",
    "    plt.gca().fill_between(df2['numerical_date'], df2['min'], df2['max'], facecolor='lightgrey',\n",
    "                          zorder=2)\n",
    "    \n",
    "    # Modify the axes and legend\n",
    "    ax = plt.gca()\n",
    "    \n",
    "    # Set x axis format (month), remove the last month\n",
    "    ax.xaxis.set_major_formatter(dates.DateFormatter('%b'))\n",
    "    ax.xaxis.set_major_locator(dates.MonthLocator())\n",
    "    loc, labels = plt.xticks()\n",
    "    loc = loc[:-1]\n",
    "    ax.set_xticks(loc)\n",
    "    \n",
    "    # Set axes labels and title\n",
    "    plt.xlabel('Month')\n",
    "    plt.ylabel('Temperature (Celcius)')\n",
    "    plt.title('Record Daily Temperatures for Ann Arbor, Michigan')\n",
    "    \n",
    "    # cosmetics\n",
    "    \n",
    "    # remove top and right spines\n",
    "    ax.spines['top'].set_visible(False)\n",
    "    ax.spines['right'].set_visible(False)\n",
    "    \n",
    "    # add legend\n",
    "    plt.subplots_adjust(bottom=0.15)\n",
    "    plt.legend(loc='best', prop={'size': 8})\n",
    "    \n",
    "    return\n",
    "\n"
   ]
  },
  {
   "cell_type": "code",
   "execution_count": null,
   "metadata": {
    "collapsed": true
   },
   "outputs": [],
   "source": []
  }
 ],
 "metadata": {
  "kernelspec": {
   "display_name": "Python 3",
   "language": "python",
   "name": "python3"
  },
  "language_info": {
   "codemirror_mode": {
    "name": "ipython",
    "version": 3
   },
   "file_extension": ".py",
   "mimetype": "text/x-python",
   "name": "python",
   "nbconvert_exporter": "python",
   "pygments_lexer": "ipython3",
   "version": "3.7.1"
  }
 },
 "nbformat": 4,
 "nbformat_minor": 1
}
